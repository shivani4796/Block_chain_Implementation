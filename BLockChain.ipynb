{
  "nbformat": 4,
  "nbformat_minor": 0,
  "metadata": {
    "colab": {
      "name": "BLockChain.ipynb",
      "provenance": [],
      "collapsed_sections": [],
      "toc_visible": true
    },
    "kernelspec": {
      "name": "python3",
      "display_name": "Python 3"
    },
    "language_info": {
      "name": "python"
    }
  },
  "cells": [
    {
      "cell_type": "code",
      "metadata": {
        "id": "RgRzSGvMjkcp"
      },
      "source": [
        "class SampleBlockchain(): \n",
        "    def __init__(self): \n",
        "        self.chain = [] \n",
        "        self.transactions = [] \n",
        "        # create Genesis block (first block of the blockchain) \n",
        "        self.create_block(proof=1, previous_hash='0')\n"
      ],
      "execution_count": null,
      "outputs": []
    },
    {
      "cell_type": "markdown",
      "metadata": {
        "id": "nHdTEZFRGmxi"
      },
      "source": [
        "**Task 0**\n",
        "\n",
        "Answer 1: In the constructor, we have intialized total two attributes named as chain and transactions.\n",
        "The type of these attributes is list.\n",
        "\n",
        "Answer 2: Dictionary can be used instead of List when we can store the hash value of the block as a string to the key of new block.\n",
        "\n",
        "Answer 3: We cannot create the object of this class now as we have not defined the create_block method yet.\n",
        "\n"
      ]
    },
    {
      "cell_type": "markdown",
      "metadata": {
        "id": "1JVaw8D_SLuE"
      },
      "source": [
        "# Task 1\n",
        "\n",
        "Answer 1: There is no error in the code so far.However, in order to create an oject we have to import datetime library\n",
        "\n",
        "Answer 2: THe difference between function and method is that a function is a sequence of statements executed in sequential order while the method is same as functionnexcept it is called with help of object and it makes changes to the attributes of the object in return.THis method we used in the code can be converted to a function by declaring an object out of the class and passing it as an argument in function.\n",
        "\n",
        "Implementation:check the code snippet below\n",
        "  \n",
        "\n",
        "\n",
        "Answer 3: THis method return a dictionary type data structure.\n",
        "\n",
        "\n",
        "\n",
        "\n",
        "Answer 4:Yes, we can use a insert function where we can pass the len(chain) as a location\n",
        "\n",
        "**self.chain.insert(len(chain),block)**(code snippet below)\n"
      ]
    },
    {
      "cell_type": "code",
      "metadata": {
        "id": "cN2JUMhzGpDw"
      },
      "source": [
        " import datetime\n",
        " class SampleBlockchain(): \n",
        "    def __init__(self): \n",
        "        self.chain = [] \n",
        "        self.transactions = [] \n",
        "        #   create Genesis block (first block of the blockchain) \n",
        "        self.create_block(proof=1, previous_hash='0')\n",
        "\n",
        "    def create_block(self, proof, previous_hash): \n",
        "         block = {'index': len(self.chain) + 1, \n",
        "                  'timestamp': str(datetime.datetime.now()), \n",
        "                  'proof': proof, \n",
        "                  'previous_hash': previous_hash, \n",
        "                  'transactions': self.transactions} \n",
        "         # empty transactions \n",
        "         self.transactions = []  \n",
        "         # add block to chain \n",
        "         self.chain.append(block) \n",
        "         return block \n",
        "    a=SampleBlockchain()    \n",
        "\n",
        "    def create_block(a,proof=1,previous_hash='0'):\n",
        "      block = {'index': len(a.chain) + 1, \n",
        "                 'timestamp': str(datetime.datetime.now()), \n",
        "                 'proof': proof, \n",
        "                 'previous_hash': previous_hash, \n",
        "                 'transactions': a.transactions} \n",
        "        #mpty transactions \n",
        "      a.transactions = []  \n",
        "    #add block to chain \n",
        "      a.chain.insert(len(chain),block)\n",
        "      #a.chain.append(block) \n",
        "    #return block  \n",
        " \n"
      ],
      "execution_count": 34,
      "outputs": []
    },
    {
      "cell_type": "markdown",
      "metadata": {
        "id": "OnCFRFQAj9LP"
      },
      "source": [
        "# Task 2\n",
        "\n",
        "Answer 1: No, THere is no error in the code.\n",
        "\n",
        "Answer 2:JSON dumps function converts the passed object into a JSON string.while keeping the short keys True,It will return the output will be sorted based on the value of the key.\n",
        "\n",
        "\n",
        "\n",
        "\n",
        "\n",
        "\n"
      ]
    },
    {
      "cell_type": "code",
      "metadata": {
        "id": "RB0czPCoGj-j"
      },
      "source": [
        "import datetime\n",
        "class SampleBlockchain(): \n",
        "    def __init__(self): \n",
        "        self.chain = [] \n",
        "        self.transactions = [] \n",
        "        # create Genesis block (first block of the blockchain) \n",
        "        self.create_block(proof=1, previous_hash='0')\n",
        "\n",
        "\n",
        "    def create_block(self, proof, previous_hash): \n",
        "        block = {'index': len(self.chain) + 1, \n",
        "                 'timestamp': str(datetime.datetime.now()), \n",
        "                 'proof': proof, \n",
        "                 'previous_hash': previous_hash, \n",
        "                 'transactions': self.transactions} \n",
        "        # empty transactions \n",
        "        self.transactions = []  \n",
        "        # add block to chain \n",
        "        self.chain.append(block) \n",
        "        return block \n",
        " \n",
        "    def hash(self, block): \n",
        "        encoded_block = json.dumps(block, sort_keys=True).encode() \n",
        "        return hashlib.sha1(encoded_block).hexdigest()\n",
        "a=SampleBlockchain()        "
      ],
      "execution_count": 35,
      "outputs": []
    },
    {
      "cell_type": "markdown",
      "metadata": {
        "id": "JUzzkS3Alpiq"
      },
      "source": [
        "# Task 3\n",
        "\n",
        "Answer 1: The output of haslib.sha1 is a big number that is not in a readable format for humans so we convert it using hexdigest() into the series of the Hexadecimal digits which ocnverts the output in short and readable form.\n",
        "\n",
        "ANSWER 2:\n",
        "   \n",
        "\n",
        "  #output#\n",
        "  #c0f739658a95a47749d6b647862da277ed72ae39afd3b575ba5c7765cab7de5f\n",
        "\n",
        "Answer 3: SHA 1 is a first version of SHA which generates a 160 bit hash value while the SHA 256 generates 256 bit hash value \n",
        "\n",
        "\n",
        "\n",
        "Answer 5:THe difficulty of the puzzle is determined by the number of leading zeros in a calculated hash value so if we increase the [:4] then the difficulty level will be rising up as now more calculation need to be done to find a hash with more than 4 leading zeros."
      ]
    },
    {
      "cell_type": "code",
      "metadata": {
        "colab": {
          "base_uri": "https://localhost:8080/"
        },
        "id": "xPlLB_JI9SYY",
        "outputId": "ecbad86d-4a70-4197-f073-e276709d86b3"
      },
      "source": [
        "import hashlib\n",
        "to_be_hashed = \"My name is Monik\".encode() \n",
        "hash_operation = hashlib.sha256(to_be_hashed).hexdigest()\n",
        "print(hash_operation)"
      ],
      "execution_count": 37,
      "outputs": [
        {
          "output_type": "stream",
          "name": "stdout",
          "text": [
            "c0f739658a95a47749d6b647862da277ed72ae39afd3b575ba5c7765cab7de5f\n"
          ]
        }
      ]
    },
    {
      "cell_type": "markdown",
      "metadata": {
        "id": "Ts7YCIKt9NJ8"
      },
      "source": [
        "Task 4\n",
        "#  Answer 1: please check the code snippet **below**"
      ]
    },
    {
      "cell_type": "code",
      "metadata": {
        "id": "JXn4EXO49URR"
      },
      "source": [
        "def is_chain_valid(self, chain):      \n",
        "        previous_block = chain[0] \n",
        "        for block_index in range (1,len(chain)):\n",
        "            current_block = chain[block_index] \n",
        "            # check 1 \n",
        "            if current_block['previous_hash'] != self.hash(previous_block): \n",
        "                return False \n",
        "             \n",
        "            # check 2 \n",
        "            previous_proof = previous_block['proof'] \n",
        "            current_proof = current_block['proof'] \n",
        "             \n",
        "            # recalculate proof of work and check it is valid \n",
        "            to_be_hashed = str(current_proof**2 - previous_proof**2).encode() \n",
        "            hash_operation = hashlib.sha256(to_be_hashed).hexdigest() \n",
        "            if hash_operation[:4] != '0000': \n",
        "                return False \n",
        "             \n",
        "            # everything is good! prepare to check the next block \n",
        "            previous_block = current_block \n",
        "             \n",
        "         \n",
        "        return True"
      ],
      "execution_count": 3,
      "outputs": []
    },
    {
      "cell_type": "markdown",
      "metadata": {
        "id": "UPRzkRGO-E8Z"
      },
      "source": [
        "# Task 5\n",
        "\n",
        "Answer 1: #check the code snippet below\n",
        "\n",
        "Answer 2: #check the code snippet below"
      ]
    },
    {
      "cell_type": "code",
      "metadata": {
        "id": "su8FHrIY-hTq"
      },
      "source": [
        "def get_last_block(self): \n",
        "    return self.chain[len(chain)-1]\n",
        "\n",
        "def add_transaction(self): \n",
        "        val=[]\n",
        "        \n",
        "        with open('my_file.txt',mode='w') as my_file:\n",
        "          my_file.write(\"50\\n\")\n",
        "          my_file.write(\"10\\n\")\n",
        "          my_file.write(\"150\\n\")\n",
        "        with open('my_file.txt',mode='r') as my_file:\n",
        "          lines=my_file.readlines()\n",
        "          val=lines\n",
        "            \n",
        "        data = {\"routers\": val[0], \n",
        "                \"switches\":val[1], \n",
        "                \"vlans\": val[2]}        \n",
        "        self.transactions.append(data) \n",
        "        last_block = self.get_last_block() \n",
        "        return last_block['index'] + 1    \n",
        "        "
      ],
      "execution_count": 39,
      "outputs": []
    }
  ]
}